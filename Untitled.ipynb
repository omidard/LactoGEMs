{
 "cells": [
  {
   "cell_type": "code",
   "execution_count": null,
   "id": "1c39cbf2-a771-4120-aad1-1bab041f07de",
   "metadata": {},
   "outputs": [],
   "source": [
    "import plotly.graph_objects as go\n",
    "import pandas as pd\n",
    "import numpy as np\n",
    "import plotly.express as px\n",
    "\n",
    "import pandas as pd\n",
    "gpr = pd.read_excel ('7-jan-LbReactome2_2.xlsx') #xls list of gprs and related rxn_ids\n",
    "gprdf = pd.DataFrame(gpr)\n",
    "re_ge = dict(tuple(gprdf.groupby('Subsystem')))                                                            \n",
    "sorted_rege = sorted(re_ge.values(), key=len)\n",
    "\n",
    "keys = sorted(re_ge.keys())\n",
    "size = []\n",
    "for i in range(len(r_g)):\n",
    "    freq= len(r_g[i])* 100 /49\n",
    "    size.append(freq)\n",
    "\n",
    "fig = px.bar(x= keys, y=size)\n",
    "fig.show()"
   ]
  }
 ],
 "metadata": {
  "kernelspec": {
   "display_name": "Python 3",
   "language": "python",
   "name": "python3"
  },
  "language_info": {
   "codemirror_mode": {
    "name": "ipython",
    "version": 3
   },
   "file_extension": ".py",
   "mimetype": "text/x-python",
   "name": "python",
   "nbconvert_exporter": "python",
   "pygments_lexer": "ipython3",
   "version": "3.8.8"
  }
 },
 "nbformat": 4,
 "nbformat_minor": 5
}
